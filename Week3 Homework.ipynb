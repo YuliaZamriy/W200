{
 "cells": [
  {
   "cell_type": "markdown",
   "metadata": {},
   "source": [
    "### 1.1 If statements"
   ]
  },
  {
   "cell_type": "code",
   "execution_count": 4,
   "metadata": {},
   "outputs": [
    {
     "name": "stdout",
     "output_type": "stream",
     "text": [
      "Please enter your income: 10\n",
      "You owe 0.500000 in taxes\n"
     ]
    }
   ],
   "source": [
    "income = int(input(\"Please enter your income: \"))\n",
    "if income > 2000:\n",
    "    tax = 150 + (income - 2000)*0.15\n",
    "elif income > 1000:\n",
    "    tax = 50 + (income - 1000)*0.1\n",
    "else:\n",
    "    tax = income*0.05\n",
    "print(\"You owe %f in taxes\" % tax)"
   ]
  },
  {
   "cell_type": "markdown",
   "metadata": {},
   "source": [
    "### 1.2 While loops"
   ]
  },
  {
   "cell_type": "code",
   "execution_count": 12,
   "metadata": {},
   "outputs": [
    {
     "name": "stdout",
     "output_type": "stream",
     "text": [
      "Print your name: Yulia\n",
      "Ailuy\n"
     ]
    }
   ],
   "source": [
    "name = input(\"Print your name: \")\n",
    "name_original = name[:]\n",
    "name_reversed = []\n",
    "while len(name) > 0:\n",
    "    name_reversed.append(name[-1:])\n",
    "    name = name[:-1]\n",
    "name_reversed = \"\".join(name_reversed)\n",
    "if name_original.lower() == name_reversed.lower():\n",
    "    print(name_reversed.capitalize(), \"\\nPalindrome!\")\n",
    "else:\n",
    "    print(name_reversed.capitalize())"
   ]
  },
  {
   "cell_type": "markdown",
   "metadata": {},
   "source": [
    "### 1.3 Tree Prints"
   ]
  },
  {
   "cell_type": "code",
   "execution_count": 86,
   "metadata": {},
   "outputs": [
    {
     "name": "stdout",
     "output_type": "stream",
     "text": [
      "Enter tree size: 1\n",
      "1\n"
     ]
    }
   ],
   "source": [
    "n = int(input(\"Enter tree size: \"))\n",
    "nrows = n\n",
    "digits = 1\n",
    "digits_list = [str(digits)]\n",
    "while nrows > 0:\n",
    "    digits_str = \" \"*(nrows-1) + \"\".join(digits_list[:-1]) + \"\".join(digits_list[::-1])\n",
    "    print(digits_str)\n",
    "    digits +=1 \n",
    "    digits_list.append(str(digits))\n",
    "    nrows -=1"
   ]
  },
  {
   "cell_type": "markdown",
   "metadata": {},
   "source": [
    "## 1.4 Fibonacci"
   ]
  },
  {
   "cell_type": "code",
   "execution_count": 90,
   "metadata": {},
   "outputs": [
    {
     "name": "stdout",
     "output_type": "stream",
     "text": [
      "Enter a number: -4\n"
     ]
    }
   ],
   "source": [
    "n = int(input(\"Enter a number above zero: \"))\n",
    "fib_1 = 1\n",
    "fib_2 = 1\n",
    "\n",
    "if n <= 0:\n",
    "    print(\"Invalid number\")\n",
    "\n",
    "while fib_1 <= n:\n",
    "    print(fib_1, end = \" \")\n",
    "    if fib_2 <= n:\n",
    "        print(fib_2, end = \" \")\n",
    "    fib_1 += fib_2 \n",
    "    fib_2 += fib_1 "
   ]
  },
  {
   "cell_type": "markdown",
   "metadata": {},
   "source": [
    "## 5 Pascal's Triangle"
   ]
  },
  {
   "cell_type": "code",
   "execution_count": 103,
   "metadata": {},
   "outputs": [
    {
     "name": "stdout",
     "output_type": "stream",
     "text": [
      "Enter a number: 4\n",
      "[1, 4, 1]\n"
     ]
    }
   ],
   "source": [
    "n = int(input(\"Enter a number: \"))\n",
    "row_num = 1\n",
    "\n",
    "while row_num < n:\n",
    "    row_n = [1,1]\n",
    "    row_n.insert(1, row_num+1)\n",
    "    row_num += 1\n",
    "print(row_n)"
   ]
  }
 ],
 "metadata": {
  "kernelspec": {
   "display_name": "Python 3",
   "language": "python",
   "name": "python3"
  },
  "language_info": {
   "codemirror_mode": {
    "name": "ipython",
    "version": 3
   },
   "file_extension": ".py",
   "mimetype": "text/x-python",
   "name": "python",
   "nbconvert_exporter": "python",
   "pygments_lexer": "ipython3",
   "version": "3.6.3"
  }
 },
 "nbformat": 4,
 "nbformat_minor": 2
}

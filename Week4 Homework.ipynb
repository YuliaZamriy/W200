{
 "cells": [
  {
   "cell_type": "markdown",
   "metadata": {},
   "source": [
    "## 1.1 For Loops\n",
    "\n",
    "### Problem 1\n",
    "\n",
    "Write a script that prompts the user for two words. Print all the letters that are common to both\n",
    "words, in alphabetical order\n",
    "\n",
    "#### Version 1 (for loop):"
   ]
  },
  {
   "cell_type": "code",
   "execution_count": 11,
   "metadata": {},
   "outputs": [
    {
     "name": "stdout",
     "output_type": "stream",
     "text": [
      "Enter one word:Home\n",
      "Enter another word:meter\n",
      "Letters in common:em\n"
     ]
    }
   ],
   "source": [
    "word1 = input(\"Enter one word: \").lower()\n",
    "word2 = input(\"Enter another word: \").lower()\n",
    "common = []\n",
    "\n",
    "for letter in word1:\n",
    "    if letter in word2 and letter not in common:\n",
    "            common.append(letter)\n",
    "if common:\n",
    "    print(\"Letters in common:\", *sorted(common), sep = '')\n",
    "else:\n",
    "    print(\"No letters in common\")"
   ]
  },
  {
   "cell_type": "markdown",
   "metadata": {},
   "source": [
    "#### Version 2 (set comprehension):"
   ]
  },
  {
   "cell_type": "code",
   "execution_count": 30,
   "metadata": {},
   "outputs": [
    {
     "name": "stdout",
     "output_type": "stream",
     "text": [
      "Enter one word:meter\n",
      "Enter another word:Home\n",
      "Letters in common:em\n"
     ]
    }
   ],
   "source": [
    "word1 = input(\"Enter one word: \").lower()\n",
    "word2 = input(\"Enter another word: \").lower()\n",
    "\n",
    "common = {letter for letter in word1 if letter in word2}\n",
    "if common:\n",
    "    print(\"Letters in common:\", *sorted(common), sep = '')\n",
    "else:\n",
    "    print(\"No letters in common\")"
   ]
  },
  {
   "cell_type": "markdown",
   "metadata": {},
   "source": [
    "### Problem 2\n",
    "\n",
    "You place a pawn at the top left corner of an n-by-n chess board, labeled (0,0). For each move, you\n",
    "have a choice: move the pawn down a single space, or move the pawn down one space and right one\n",
    "space. That is, if the pawn is at position (i,j), you can move the pawn to (i+1,j) or (i+1, j+1).\n",
    "Ask the user for the size of a chessboard, n. Find the number of different paths the pawn could take to\n",
    "reach each position on the chess board.\n",
    "Print the board with the number of ways to reach each square labeled as shown below."
   ]
  },
  {
   "cell_type": "code",
   "execution_count": 49,
   "metadata": {},
   "outputs": [
    {
     "name": "stdout",
     "output_type": "stream",
     "text": [
      "Enter a board size: 2\n",
      "1 0\n",
      "1 1\n"
     ]
    }
   ],
   "source": [
    "n = int(input(\"Enter a board size: \"))\n",
    "\n",
    "# initialize first row\n",
    "row_current = [1] + [0]*(n-1)\n",
    "print(*row_current, sep = \" \")\n",
    "\n",
    "# for all other rows\n",
    "for row in range(n-1):\n",
    "    # set current to row as a prior row\n",
    "    row_prior = row_current[:]\n",
    "    # re-initialize current row\n",
    "    row_current = [1] + [0]*(n-1)\n",
    "    # number of ways to get to the current cell is equal \n",
    "    # to the sum of ways to get to the same cell in the row prior \n",
    "    # and a cell to the left of it\n",
    "    for col in range(1, n):\n",
    "        row_current[col] = row_prior[col] + row_prior[col-1]\n",
    "    print(*row_current, sep = \" \")"
   ]
  },
  {
   "cell_type": "markdown",
   "metadata": {},
   "source": [
    "## 2. Bisection Search\n",
    "\n",
    "Correcting the code for values between 0 and 1"
   ]
  },
  {
   "cell_type": "code",
   "execution_count": 55,
   "metadata": {},
   "outputs": [
    {
     "name": "stdout",
     "output_type": "stream",
     "text": [
      "enter a number:25\n",
      "low = 0.0 high = 25.0\n",
      "low = 0.0 high = 12.5\n",
      "low = 0.0 high = 6.25\n",
      "low = 3.125 high = 6.25\n",
      "low = 4.6875 high = 6.25\n",
      "low = 4.6875 high = 5.46875\n",
      "low = 4.6875 high = 5.078125\n",
      "low = 4.8828125 high = 5.078125\n",
      "low = 4.98046875 high = 5.078125\n",
      "low = 4.98046875 high = 5.029296875\n",
      "low = 4.98046875 high = 5.0048828125\n",
      "low = 4.99267578125 high = 5.0048828125\n",
      "low = 4.998779296875 high = 5.0048828125\n",
      "low = 4.998779296875 high = 5.0018310546875\n",
      "low = 4.998779296875 high = 5.00030517578125\n",
      "low = 4.999542236328125 high = 5.00030517578125\n",
      "low = 4.9999237060546875 high = 5.00030517578125\n",
      "low = 4.9999237060546875 high = 5.000114440917969\n",
      "low = 4.9999237060546875 high = 5.000019073486328\n",
      "low = 4.999971389770508 high = 5.000019073486328\n",
      "low = 4.999995231628418 high = 5.000019073486328\n",
      "number of guesses = 21\n",
      "5.0000011920928955 is close to square root of 25.0\n"
     ]
    }
   ],
   "source": [
    "## Bisection Search to Find a Square Root\n",
    "\n",
    "x = float(input(\"enter a number:\"))\n",
    "epsilon = 0.00001\n",
    "num_guesses = 0\n",
    "\n",
    "if x >= 1:\n",
    "    low = 0.0\n",
    "    high = x\n",
    "else:\n",
    "    low = x\n",
    "    high = 1.0\n",
    "\n",
    "ans = (high + low)/2.0\n",
    "while high - low >= 2 * epsilon:\n",
    "    print(\"low =\",low,\"high =\", high)\n",
    "    num_guesses += 1\n",
    "    if ans ** 2 < x:\n",
    "        low = ans\n",
    "    else:\n",
    "        high = ans\n",
    "    ans = (high + low)/2.0\n",
    "print(\"number of guesses =\", num_guesses)\n",
    "print(ans, \"is close to square root of\", x)"
   ]
  },
  {
   "cell_type": "markdown",
   "metadata": {},
   "source": [
    "## 3. Bisection Search Part 2"
   ]
  },
  {
   "cell_type": "markdown",
   "metadata": {},
   "source": [
    "## 4. Comprehensions\n",
    "\n",
    "### Problem 1\n",
    "\n",
    "Use a comprehension to make a list of the square numbers below 100 that give a remainder of 1 when\n",
    "divided by 3."
   ]
  },
  {
   "cell_type": "code",
   "execution_count": 62,
   "metadata": {},
   "outputs": [
    {
     "data": {
      "text/plain": [
       "[1, 4, 16, 25, 49, 64]"
      ]
     },
     "execution_count": 62,
     "metadata": {},
     "output_type": "execute_result"
    }
   ],
   "source": [
    "[i for i in range(1, 100) if i // i**0.5 == i**0.5 and i % 3 == 1]"
   ]
  },
  {
   "cell_type": "code",
   "execution_count": 83,
   "metadata": {},
   "outputs": [
    {
     "data": {
      "text/plain": [
       "[1, 4, 16, 25, 49, 64]"
      ]
     },
     "execution_count": 83,
     "metadata": {},
     "output_type": "execute_result"
    }
   ],
   "source": [
    "[i**2 for i in range(1, 10) if i**2 % 3 == 1]"
   ]
  },
  {
   "cell_type": "markdown",
   "metadata": {},
   "source": [
    "### Problem 2\n",
    "\n",
    "A string is defined in the code snippet below. Split it into individual words and use a comprehension\n",
    "to make a list of the first letters of each word in the snippet."
   ]
  },
  {
   "cell_type": "code",
   "execution_count": 81,
   "metadata": {},
   "outputs": [
    {
     "data": {
      "text/plain": [
       "['I',\n",
       " 'l',\n",
       " 'm',\n",
       " 'l',\n",
       " 'a',\n",
       " 'q',\n",
       " 'm',\n",
       " 'a',\n",
       " 'a',\n",
       " 't',\n",
       " 'N',\n",
       " 'e',\n",
       " 'm',\n",
       " 'n',\n",
       " 't',\n",
       " 'm',\n",
       " 'n',\n",
       " 't',\n",
       " 's',\n",
       " 'n',\n",
       " 'm',\n",
       " 't',\n",
       " 'a',\n",
       " 'a',\n",
       " 't',\n",
       " 'b',\n",
       " 'F',\n",
       " 't',\n",
       " 't',\n",
       " 's',\n",
       " 'o',\n",
       " 'l',\n",
       " 'I',\n",
       " 'f']"
      ]
     },
     "execution_count": 81,
     "metadata": {},
     "output_type": "execute_result"
    }
   ],
   "source": [
    "text = \"I live my life a quarter mile at a time. \\\n",
    "Nothing else matters: not the mortgage, not the store, \\\n",
    "not my team and all their bullshit. \\\n",
    "For those ten seconds or less, I’m free.\"\n",
    "\n",
    "[word[0] for word in text.split()]"
   ]
  },
  {
   "cell_type": "markdown",
   "metadata": {},
   "source": [
    "### Problem 3\n",
    "\n",
    "A Pythagorean triple is a set (x,y,z), with positive integers x≤y≤z such that x2+y2=z2. Use a com-\n",
    "prehension to make a list of all Pythagorean triples with numbers below 25."
   ]
  },
  {
   "cell_type": "code",
   "execution_count": null,
   "metadata": {
    "collapsed": true
   },
   "outputs": [],
   "source": [
    "for i in range(1, 26):\n",
    "    "
   ]
  }
 ],
 "metadata": {
  "kernelspec": {
   "display_name": "Python 3",
   "language": "python",
   "name": "python3"
  },
  "language_info": {
   "codemirror_mode": {
    "name": "ipython",
    "version": 3
   },
   "file_extension": ".py",
   "mimetype": "text/x-python",
   "name": "python",
   "nbconvert_exporter": "python",
   "pygments_lexer": "ipython3",
   "version": "3.6.3"
  }
 },
 "nbformat": 4,
 "nbformat_minor": 2
}

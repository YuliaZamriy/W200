{
 "cells": [
  {
   "cell_type": "markdown",
   "metadata": {},
   "source": [
    "### Functions\n",
    "\n",
    "#### Problem 1\n",
    "\n",
    "1. Write a function, sum_digits, which takes an int and returns the sum of its digits.\n",
    "2. Write another function that “wraps” sum_digits in that it calls sum digits from within it. Call this\n",
    "function diff_sum_digits. Use that function to compute the input number minus the sum of digits of input\n",
    "number.\n",
    "3. Write another function that “wraps” diff_sum_digits. If diff_sum_digits returns a result that has\n",
    "more than one digit (either negative or positive) have it replace it with the sum of the digits of the result.\n",
    "Do this repeatedly until the result has just one digit, then display it."
   ]
  },
  {
   "cell_type": "code",
   "execution_count": 106,
   "metadata": {},
   "outputs": [
    {
     "name": "stdout",
     "output_type": "stream",
     "text": [
      "Final result is: 9\n"
     ]
    }
   ],
   "source": [
    "def sum_digits(integer):\n",
    "    \"\"\" Input: integer\n",
    "        Output: sum of digits in the input integer\n",
    "    \"\"\"\n",
    "    result = 0\n",
    "    while integer > 0:\n",
    "        result += integer % 10\n",
    "        integer //= 10\n",
    "    return result\n",
    "\n",
    "def diff_sum_digits(integer):\n",
    "    \"\"\" Input: integer\n",
    "        Output: difference between input integer and sum of digits in this integer\n",
    "    \"\"\"\n",
    "    return integer - sum_digits(integer)\n",
    "\n",
    "def keep_counting(integer):\n",
    "    \"\"\" Input: integer\n",
    "        Operations: 1. Calculate the difference between input integer and sum of digits in this integer.\n",
    "                    2. If the result number contains 2 or more digits, replace it with the sum of its digits\n",
    "                    3. Repeat until result contains only one digit\n",
    "        Output: Single digit number (always 9)\n",
    "    \"\"\"\n",
    "    result = diff_sum_digits(integer)\n",
    "    while result // 10 > 0:\n",
    "        result = sum_digits(result)\n",
    "    return result\n",
    "\n",
    "final_result = keep_counting(546)\n",
    "print(\"Final result is:\", final_result)"
   ]
  },
  {
   "cell_type": "markdown",
   "metadata": {},
   "source": [
    "#### Problem 2\n",
    "\n",
    "Write a function is_consonant that takes a character and returns True if it is a consonant.\n",
    "Use your function to create a new fuction to_piglatin that takes a word, moves all starting consonants\n",
    "to the end of the word, then adds ay to the end and returns the result. You may expect that the the input\n",
    "will be just one word.\n",
    "Have this function check whether or not the input is multiple words and return the whole\n",
    "sentence in pig latin. For this you may assume that a sentence always ends with a period and is always one\n",
    "sentence, never more than one."
   ]
  },
  {
   "cell_type": "code",
   "execution_count": 105,
   "metadata": {},
   "outputs": [
    {
     "data": {
      "text/plain": [
       "'Yuliaay Zamriyay entway orfay aay alkway, anday Mattay entway otay orkway.'"
      ]
     },
     "execution_count": 105,
     "metadata": {},
     "output_type": "execute_result"
    }
   ],
   "source": [
    "import string\n",
    "\n",
    "def is_consonant(character):\n",
    "    \"\"\" Input: one character\n",
    "        Operations: Check if the character is a consonant\n",
    "        Output: True if consonant\n",
    "    \"\"\"\n",
    "    return (character in string.ascii_lowercase) and (character not in 'aeiou')\n",
    "\n",
    "def to_piglatin(word):\n",
    "    \"\"\" Input: one word\n",
    "        Operations: 1. Move all starting consonants to the end of the word. Then add \"ay\" to the end\n",
    "                    2. If input word contains punctuation, keep it in modified word\n",
    "                    3. Capitalize the modified word if input is capitalized\n",
    "        Ouputput: modified word\n",
    "    \"\"\"\n",
    "    pig_latin = word.lower()\n",
    "    for i in range(len(word)):\n",
    "        if is_consonant(word[i]):\n",
    "            pig_latin = pig_latin[1:] + word[i]\n",
    "        else:\n",
    "            break\n",
    "    pig_latin = pig_latin + \"ay\"\n",
    "    if word[-1] in \",.!?\":\n",
    "        pig_latin = pig_latin[0:pig_latin.find(word[-1])] + pig_latin[pig_latin.find(word[-1])+1:] + word[-1]\n",
    "    if word[0].isupper():\n",
    "        pig_latin = pig_latin.capitalize()\n",
    "    return pig_latin   \n",
    "\n",
    "def piglatin_sentence(sentence):\n",
    "    \"\"\" Input: sentence\n",
    "        Operations: apply to_piglatin function to each word in the input sentence\n",
    "        Output: sentence with modified words\"\"\"\n",
    "    pig_latin_sentence = []\n",
    "    for word in sentence.split():\n",
    "        pig_latin_sentence.append(to_piglatin(word))\n",
    "    return \" \".join(pig_latin_sentence)\n",
    "\n",
    "piglatin_sentence(\"Yulia Zamriy went for a walk, and Matt went to work.\")"
   ]
  },
  {
   "cell_type": "markdown",
   "metadata": {},
   "source": [
    "### Namespaces\n",
    "\n",
    "#### Problem 3\n",
    "\n",
    "The following script defines a list of customer orders. Each item in the list is a tuple containing the name of\n",
    "the item, the number requested, and the price per item.\n",
    "Fill in just the process order function below without changing any other code. This function should\n",
    "remove one of the elements of the order list and print a nice message about it. Finally, make sure that the\n",
    "final print statement correctly displays the total price for the entire list."
   ]
  },
  {
   "cell_type": "code",
   "execution_count": 113,
   "metadata": {
    "scrolled": true
   },
   "outputs": [
    {
     "name": "stdout",
     "output_type": "stream",
     "text": [
      "oranges is a good choice!\n",
      "gummy bears is a good choice!\n",
      "sour bites is a good choice!\n",
      "antacid is a good choice!\n",
      "total price: 27.189999999999998\n"
     ]
    }
   ],
   "source": [
    "total = 0\n",
    "def process_order(x_list):\n",
    "    \"\"\" Input: a list of tuples with 3 elements (the item, the number requested, and the price per item)\n",
    "        Operations: 1. Update order total with item's total\n",
    "                    2. Remove one item at a time\n",
    "                    3. Print a message about removed item\n",
    "        Output: empty input list\n",
    "    \"\"\"\n",
    "    # creating a list copy for iteration\n",
    "    x_list_copy = x_list[:]\n",
    "    global total\n",
    "    for item in x_list_copy:\n",
    "        total += item[1]*item[2]\n",
    "        x_list.remove(item)\n",
    "        print(item[0], \"is a good choice!\")\n",
    "\n",
    "x = [(\"oranges\", 4, 3.22),(\"gummy bears\",1,1.99),(\"sour bites\", 3, 2.33), (\"antacid\", 1, 5.33)]\n",
    "\n",
    "while(len(x)>0):\n",
    "    process_order(x)\n",
    "print(\"total price:\", total)"
   ]
  },
  {
   "cell_type": "markdown",
   "metadata": {},
   "source": [
    "### Functions as Objects\n",
    "\n",
    "#### Problem 4\n",
    "\n",
    "The following code defines a list of names and also contains a header for the function **best**. This function\n",
    "should take two arguments: a function, **score**, and a list of strings, **names**. Fill in the function so that it\n",
    "applies the score function to each string in names and returns the one with the highest score. If there are\n",
    "ties in the list, your function should return the first item with the maximum score.\n",
    "Next, define a function, **number_of_vowels**, that returns the number of vowels in a string. Use it with\n",
    "your best function to find the name in names with the most vowels.\n",
    "Next, pass a **lambda** function into your **best** function to find the name in **names** with the highest\n",
    "number of a’s."
   ]
  },
  {
   "cell_type": "code",
   "execution_count": 1,
   "metadata": {},
   "outputs": [
    {
     "name": "stdout",
     "output_type": "stream",
     "text": [
      "[1, 2, 2, 3, 2, 0, 3]\n",
      "Alexis\n",
      "[0, 0, 1, 0, 1, 0, 2]\n",
      "Madonna\n"
     ]
    }
   ],
   "source": [
    "def best(score, names):\n",
    "    \"\"\" Input: a function and a list\n",
    "        Operations: 1. Apply function to each element in the list\n",
    "                    2. Find an element with the highest value of the score function result\n",
    "                    3. If there are ties, return the first item \n",
    "        Output: a list element with the highest score\n",
    "    \"\"\"\n",
    "    \n",
    "    score_list = [score(name) for name in names]\n",
    "    print(score_list)\n",
    "    return names[score_list.index(max(score_list))]\n",
    "    \n",
    "def number_of_vowels(word):\n",
    "    \"\"\" Input: a word\n",
    "        Output: number of vowels in the input word\n",
    "    \"\"\"\n",
    "    vowel_count = 0\n",
    "    for letter in word:\n",
    "        if letter.lower() in 'aeiou':\n",
    "            vowel_count +=1\n",
    "    return vowel_count\n",
    "\n",
    "names = [\"Ben\", \"April\", \"Zaber\", \"Alexis\", \"McJagger\", \"J.J.\", \"Madonna\"]\n",
    "\n",
    "print(best(number_of_vowels, names))\n",
    "print(best(lambda x: x.count('a'), names))"
   ]
  },
  {
   "cell_type": "markdown",
   "metadata": {},
   "source": [
    "### Exceptions Exercises\n",
    "\n",
    "#### Problem 5\n",
    "\n",
    "Refactor this code that attempts to compute a reciprocal so that it keeps prompting the user for a number\n",
    "repeatedly until the user successfully enters a valid number. If the user enters 0, the program should print\n",
    "that zero does not have a reciprocal, then terminate."
   ]
  },
  {
   "cell_type": "code",
   "execution_count": 141,
   "metadata": {},
   "outputs": [
    {
     "name": "stdout",
     "output_type": "stream",
     "text": [
      "Enter a number: o\n",
      "You did not enter a valid number.\n",
      "Enter a number: 0\n",
      "Zero does not have a reciprocal. You are terminated!\n"
     ]
    }
   ],
   "source": [
    "while True:\n",
    "    try:\n",
    "        x = float(input(\"Enter a number: \"))\n",
    "        print(\"The reciprocal of your number is\", 1/x)\n",
    "        break\n",
    "    except ValueError:\n",
    "        print(\"You did not enter a valid number.\")\n",
    "    except ZeroDivisionError:\n",
    "        print(\"Zero does not have a reciprocal. You are terminated!\")\n",
    "        break\n",
    "    except:\n",
    "        print(\"something else went wrong.\")"
   ]
  },
  {
   "cell_type": "markdown",
   "metadata": {},
   "source": [
    "#### Problem 6\n",
    "\n",
    "Write a function that takes a list of grades and a corresponding list of percentages and returns the\n",
    "weighted average of the grades. Your function should raise an exception if a percentage is less than 0 or\n",
    "greater than 100, and a different exception if the percentages do not add to 100.\n",
    "Run your function on **grades1** with **weights1** and **grades2** with **weights2**, defined below. Catch the\n",
    "errors generated in each case and print a useful message for the user."
   ]
  },
  {
   "cell_type": "code",
   "execution_count": 173,
   "metadata": {},
   "outputs": [
    {
     "data": {
      "text/plain": [
       "75.0"
      ]
     },
     "execution_count": 173,
     "metadata": {},
     "output_type": "execute_result"
    }
   ],
   "source": [
    "def weight_grade(grades, weights):\n",
    "    \"\"\"Input: list of grades, list of weights\n",
    "       Restrictions: 1. Weights must add too 100\n",
    "                     2. Weights must be between 0 and 100\n",
    "       Output: weighted average of grades\n",
    "    \"\"\"\n",
    "    \n",
    "    sum_weights = sum(weights)\n",
    "    \n",
    "    if sum_weights != 100:\n",
    "        raise Exception(\"Weights do not add to 100\")\n",
    "    \n",
    "    for weight in weights:\n",
    "        if weight < 0 or weight > 100:\n",
    "            raise Exception(\"Weight %d is not valid\" %weight)\n",
    "    \n",
    "    weighted_grade = sum([grade*weight for grade, weight in zip(grades, weights)])/sum_weights\n",
    "    \n",
    "    return weighted_grade\n",
    "\n",
    "grades1 = [88, 99, 100, 70]\n",
    "weights1 = [30, 30, 30, 5]\n",
    "grades2 = [78, 75, 80, 99]\n",
    "weights2 = [110, 10, -20]\n",
    "grades3 = [75, 75, 75, 75]\n",
    "weights3 = [25, 25, 25, 25]\n",
    "\n",
    "weight_grade(grades3, weights3)"
   ]
  }
 ],
 "metadata": {
  "kernelspec": {
   "display_name": "Python 3",
   "language": "python",
   "name": "python3"
  },
  "language_info": {
   "codemirror_mode": {
    "name": "ipython",
    "version": 3
   },
   "file_extension": ".py",
   "mimetype": "text/x-python",
   "name": "python",
   "nbconvert_exporter": "python",
   "pygments_lexer": "ipython3",
   "version": "3.6.3"
  }
 },
 "nbformat": 4,
 "nbformat_minor": 2
}

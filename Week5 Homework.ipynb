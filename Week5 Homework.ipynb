{
 "cells": [
  {
   "cell_type": "markdown",
   "metadata": {},
   "source": [
    "### Functions\n",
    "\n",
    "#### Problem 1"
   ]
  },
  {
   "cell_type": "code",
   "execution_count": 72,
   "metadata": {},
   "outputs": [
    {
     "name": "stdout",
     "output_type": "stream",
     "text": [
      "Final result is: 9\n"
     ]
    }
   ],
   "source": [
    "def sum_digits(integer):\n",
    "    ans = 0\n",
    "    while integer > 0:\n",
    "        ans += integer % 10\n",
    "        integer //= 10\n",
    "    return ans\n",
    "\n",
    "def diff_sum_digits(integer):\n",
    "    return integer - sum_digits(integer)\n",
    "\n",
    "def keep_counting(integer):\n",
    "    result = diff_sum_digits(integer)\n",
    "    while result // 10 > 0:\n",
    "        result = sum_digits(result)\n",
    "    return result\n",
    "\n",
    "final_result = keep_counting(546)\n",
    "print(\"Final result is:\", final_result)"
   ]
  },
  {
   "cell_type": "markdown",
   "metadata": {},
   "source": [
    "#### Problem 2\n",
    "\n",
    "Write a function is_consonant that takes a character and returns True if it is a consonant.\n",
    "Use your function to create a new fuction to_piglatin that takes a word, moves all starting consonants\n",
    "to the end of the word, then adds ay to the end and returns the result. You may expect that the the input\n",
    "will be just one word."
   ]
  },
  {
   "cell_type": "code",
   "execution_count": 89,
   "metadata": {},
   "outputs": [
    {
     "data": {
      "text/plain": [
       "'Uliayay'"
      ]
     },
     "execution_count": 89,
     "metadata": {},
     "output_type": "execute_result"
    }
   ],
   "source": [
    "import string\n",
    "\n",
    "def is_consonant(character):\n",
    "    return (character in string.ascii_letters) and (character not in 'aeiouAEIOU')\n",
    "\n",
    "def to_piglatin(word):\n",
    "    pig_latin = word.lower()\n",
    "    for i in range(len(word)):\n",
    "        if is_consonant(word[i]):\n",
    "            pig_latin = pig_latin[1:] + word[i]\n",
    "        else:\n",
    "            break\n",
    "    if word[0].isupper():\n",
    "        pig_latin = pig_latin.capitalize()\n",
    "    return pig_latin + 'ay'        \n",
    "\n",
    "to_piglatin(\"yulia\")"
   ]
  },
  {
   "cell_type": "markdown",
   "metadata": {},
   "source": [
    "Have this function check whether or not the input is multiple words and return the whole\n",
    "sentence in pig latin. For this you may assume that a sentence always ends with a period and is always one\n",
    "sentence, never more than one."
   ]
  },
  {
   "cell_type": "code",
   "execution_count": 100,
   "metadata": {},
   "outputs": [
    {
     "name": "stdout",
     "output_type": "stream",
     "text": [
      "['Yulia', 'Zamriy', 'went', 'for', 'a', 'walk,', 'and', 'Matt', 'went', 'to', 'work.']\n"
     ]
    },
    {
     "data": {
      "text/plain": [
       "'Uliayay Amriyzay entway orfay aay alkway, anday Attmay entway otay orkway.'"
      ]
     },
     "execution_count": 100,
     "metadata": {},
     "output_type": "execute_result"
    }
   ],
   "source": [
    "import string\n",
    "\n",
    "def is_consonant(character):\n",
    "    return (character in string.ascii_letters) and (character not in 'aeiouAEIOU')\n",
    "\n",
    "def to_piglatin(word):\n",
    "    pig_latin = word.lower()\n",
    "    for i in range(len(word)):\n",
    "        if is_consonant(word[i]):\n",
    "            pig_latin = pig_latin[1:] + word[i]\n",
    "        else:\n",
    "            break\n",
    "    pig_latin = pig_latin + \"ay\"\n",
    "    if word[-1] in \",.!?\":\n",
    "        pig_latin = pig_latin[0:pig_latin.find(word[-1])] + pig_latin[pig_latin.find(word[-1])+1:] + word[-1]\n",
    "    if word[0].isupper():\n",
    "        pig_latin = pig_latin.capitalize()\n",
    "    return pig_latin   \n",
    "\n",
    "def piglatin_sentence(sentence):\n",
    "    pig_latin_sentence = []\n",
    "    for word in sentence.split():\n",
    "        pig_latin_sentence.append(to_piglatin(word))\n",
    "    return \" \".join(pig_latin_sentence)\n",
    "\n",
    "piglatin_sentence(\"Yulia Zamriy went for a walk, and Matt went to work.\")"
   ]
  }
 ],
 "metadata": {
  "kernelspec": {
   "display_name": "Python 3",
   "language": "python",
   "name": "python3"
  },
  "language_info": {
   "codemirror_mode": {
    "name": "ipython",
    "version": 3
   },
   "file_extension": ".py",
   "mimetype": "text/x-python",
   "name": "python",
   "nbconvert_exporter": "python",
   "pygments_lexer": "ipython3",
   "version": "3.6.3"
  }
 },
 "nbformat": 4,
 "nbformat_minor": 2
}
